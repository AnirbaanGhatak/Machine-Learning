{
 "cells": [
  {
   "cell_type": "code",
   "execution_count": 2,
   "metadata": {},
   "outputs": [],
   "source": [
    "import pandas as pd\n",
    "import numpy as np"
   ]
  },
  {
   "cell_type": "code",
   "execution_count": 3,
   "metadata": {},
   "outputs": [],
   "source": [
    "df = pd.read_csv('indian_food.csv')"
   ]
  },
  {
   "cell_type": "code",
   "execution_count": 4,
   "metadata": {},
   "outputs": [
    {
     "name": "stdout",
     "output_type": "stream",
     "text": [
      "size: 2295\n",
      "shape: (255, 9)\n",
      "data types of each column in the dataset:\n",
      "name              object\n",
      "ingredients       object\n",
      "diet              object\n",
      "prep_time          int64\n",
      "cook_time          int64\n",
      "flavor_profile    object\n",
      "course            object\n",
      "state             object\n",
      "region            object\n",
      "dtype: object\n"
     ]
    }
   ],
   "source": [
    "print(f'size: {df.size}')\n",
    "print(f'shape: {df.shape}')\n",
    "print(f'data types of each column in the dataset:\\n{df.dtypes}')"
   ]
  },
  {
   "cell_type": "code",
   "execution_count": 5,
   "metadata": {},
   "outputs": [
    {
     "name": "stdout",
     "output_type": "stream",
     "text": [
      "Total no of Indian dishes:  255\n"
     ]
    }
   ],
   "source": [
    "x,y = df.shape\n",
    "print(\"Total no of Indian dishes: \",x)"
   ]
  },
  {
   "cell_type": "code",
   "execution_count": 8,
   "metadata": {},
   "outputs": [
    {
     "data": {
      "text/plain": [
       "<bound method NDFrame.describe of                name                                        ingredients  \\\n",
       "0        Balu shahi                    Maida flour, yogurt, oil, sugar   \n",
       "1            Boondi                            Gram flour, ghee, sugar   \n",
       "2    Gajar ka halwa       Carrots, milk, sugar, ghee, cashews, raisins   \n",
       "3            Ghevar  Flour, ghee, kewra, milk, clarified butter, su...   \n",
       "4       Gulab jamun  Milk powder, plain flour, baking powder, ghee,...   \n",
       "..              ...                                                ...   \n",
       "250       Til Pitha            Glutinous rice, black sesame seeds, gur   \n",
       "251         Bebinca  Coconut milk, egg yolks, clarified butter, all...   \n",
       "252          Shufta  Cottage cheese, dry dates, dried rose petals, ...   \n",
       "253       Mawa Bati  Milk powder, dry fruits, arrowroot powder, all...   \n",
       "254          Pinaca  Brown rice, fennel seeds, grated coconut, blac...   \n",
       "\n",
       "           diet  prep_time  cook_time flavor_profile   course  \\\n",
       "0    vegetarian         45         25          sweet  dessert   \n",
       "1    vegetarian         80         30          sweet  dessert   \n",
       "2    vegetarian         15         60          sweet  dessert   \n",
       "3    vegetarian         15         30          sweet  dessert   \n",
       "4    vegetarian         15         40          sweet  dessert   \n",
       "..          ...        ...        ...            ...      ...   \n",
       "250  vegetarian          5         30          sweet  dessert   \n",
       "251  vegetarian         20         60          sweet  dessert   \n",
       "252  vegetarian         -1         -1          sweet  dessert   \n",
       "253  vegetarian         20         45          sweet  dessert   \n",
       "254  vegetarian         -1         -1          sweet  dessert   \n",
       "\n",
       "               state      region  \n",
       "0        West Bengal        East  \n",
       "1          Rajasthan        West  \n",
       "2             Punjab       North  \n",
       "3          Rajasthan        West  \n",
       "4        West Bengal        East  \n",
       "..               ...         ...  \n",
       "250            Assam  North East  \n",
       "251              Goa        West  \n",
       "252  Jammu & Kashmir       North  \n",
       "253   Madhya Pradesh     Central  \n",
       "254              Goa        West  \n",
       "\n",
       "[255 rows x 9 columns]>"
      ]
     },
     "execution_count": 8,
     "metadata": {},
     "output_type": "execute_result"
    }
   ],
   "source": [
    "df.describe"
   ]
  },
  {
   "cell_type": "code",
   "execution_count": 9,
   "metadata": {},
   "outputs": [],
   "source": [
    "#df.replace(np.nan, \" \", inplace=True)\n",
    "df.replace(' ', np.nan, inplace=True)"
   ]
  },
  {
   "cell_type": "code",
   "execution_count": 12,
   "metadata": {},
   "outputs": [
    {
     "data": {
      "text/plain": [
       "Index(['prep_time', 'cook_time'], dtype='object')"
      ]
     },
     "execution_count": 12,
     "metadata": {},
     "output_type": "execute_result"
    }
   ],
   "source": [
    "#print numerical columns\n",
    "df.select_dtypes(include = ['float64', 'int64']).columns\n",
    "\n",
    "# print(f\"{df.select_dtypes(include = ['float64', 'int64'])}\")"
   ]
  },
  {
   "cell_type": "code",
   "execution_count": 13,
   "metadata": {},
   "outputs": [
    {
     "name": "stdout",
     "output_type": "stream",
     "text": [
      "name 255\n",
      "ingredients 252\n",
      "diet 2\n",
      "prep_time 22\n",
      "cook_time 19\n",
      "flavor_profile 5\n",
      "course 4\n",
      "state 25\n",
      "region 7\n"
     ]
    }
   ],
   "source": [
    "#unique values in every column\n",
    "\n",
    "for col in df.columns:\n",
    "    print(col, df[col].nunique())\n",
    "    "
   ]
  },
  {
   "cell_type": "code",
   "execution_count": 14,
   "metadata": {},
   "outputs": [],
   "source": [
    "# add prep_time and cook time\n",
    "\n",
    "df['total time'] = df['prep_time'] + df['cook_time']"
   ]
  },
  {
   "cell_type": "code",
   "execution_count": 34,
   "metadata": {},
   "outputs": [],
   "source": [
    "# number of ingredients for each recipe\n",
    "\n",
    "df['num_ingredients'] = df['ingredients'].apply(len)"
   ]
  }
 ],
 "metadata": {
  "kernelspec": {
   "display_name": "Python 3",
   "language": "python",
   "name": "python3"
  },
  "language_info": {
   "codemirror_mode": {
    "name": "ipython",
    "version": 3
   },
   "file_extension": ".py",
   "mimetype": "text/x-python",
   "name": "python",
   "nbconvert_exporter": "python",
   "pygments_lexer": "ipython3",
   "version": "3.10.7"
  },
  "orig_nbformat": 4
 },
 "nbformat": 4,
 "nbformat_minor": 2
}
